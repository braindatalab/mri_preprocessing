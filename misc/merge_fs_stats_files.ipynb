{
 "cells": [
  {
   "cell_type": "code",
   "execution_count": 1,
   "metadata": {},
   "outputs": [],
   "source": [
    "import pandas as pd\n",
    "import os"
   ]
  },
  {
   "cell_type": "code",
   "execution_count": 2,
   "metadata": {},
   "outputs": [
    {
     "name": "stdout",
     "output_type": "stream",
     "text": [
      "['brain_extraction.ipynb', 'cohort-sublists', 'mri_subjects_updated.txt', 'MRI preprocessing', 'cohort-lists', 'analysis_tsv_data.ipynb', '.DS_Store', 'analysis_s3_derivatives.ipynb', 'targets', 'mri_subjects.txt', 'mri_subjects_exclude.txt', 's3 tsv data', 'phenotypic data', 'subject_data_preprocessed_set.csv', 'subject_data_combined_subset.csv', 'analysis_phenotypic_data.ipynb', 'other', 'post_preprocessing_subject_consolidation.ipynb', 'fs_features', 'excalidraw', 'analysis_subjects_taking_long.ipynb', 's3_subjects.csv', 'ids_classification.txt', 'rclone download', 'contents structure thesis.txt', 'slides', 'preprocessed_subjects.csv', 'paper notes.txt', 'statistical analysis', 'subject_data_regression_subset.csv', 'subject_data_classification_subset.csv', 'freesurfer_stats_retrieval.sh', 'fs_stats', 'neuro venv', 'ids_regression.txt', 'ids_taking_long.txt', 'freesurfer_feature_retrieval.ipynb', 'preprocessing_report.txt', 'ids_preprocessed.txt', 'post_preprocessing_subject_analysis.ipynb', 'plots']\n"
     ]
    }
   ],
   "source": [
    "print(os.listdir())"
   ]
  },
  {
   "cell_type": "code",
   "execution_count": 3,
   "metadata": {},
   "outputs": [],
   "source": [
    "os.chdir('fs_stats')\n",
    "#os.listdir()"
   ]
  },
  {
   "cell_type": "code",
   "execution_count": 4,
   "metadata": {},
   "outputs": [
    {
     "name": "stdout",
     "output_type": "stream",
     "text": [
      "7 1 18\n"
     ]
    }
   ],
   "source": [
    "aseg_dict = {}\n",
    "global_dict = {}\n",
    "aparc_dict = {}\n",
    "\n",
    "for file in os.listdir():\n",
    "    if file == 'aseg_asegstats_global.csv':\n",
    "        global_dict[file.split('.csv')[0]] = pd.read_csv(file, delimiter = \"\\t\")\n",
    "    if (file.endswith('.csv') & file.startswith('aseg')) & (file != 'aseg_asegstats_global.csv'):\n",
    "        aseg_dict[file.split('.csv')[0]] = pd.read_csv(file, delimiter = \"\\t\")\n",
    "    if file.endswith('.csv') & (file.startswith('lh') |file.startswith('rh') ) :\n",
    "        aparc_dict[file.split('.csv')[0]] = pd.read_csv(file, delimiter = \"\\t\")\n",
    "\n",
    "print(len(aseg_dict), len(global_dict), len(aparc_dict))"
   ]
  },
  {
   "cell_type": "code",
   "execution_count": 5,
   "metadata": {},
   "outputs": [],
   "source": [
    "# Drop columns in aseg_asegstats_global frame\n",
    "\n",
    "# Curated\n",
    "#columns2drop = ['CortexVol', 'CerebralWhiteMatterVol', 'BrainSegVol-to-eTIV', 'MaskVol-to-eTIV', 'SurfaceHoles']\n",
    "#aseg_dict[\"aseg_asegstats_global\"].drop(columns2drop, axis=1, inplace=True)"
   ]
  },
  {
   "cell_type": "code",
   "execution_count": 6,
   "metadata": {},
   "outputs": [],
   "source": [
    "# Change column naming pattern for dataframe global\n",
    "global_label_mapping = {}\n",
    "global_frame = global_dict['aseg_asegstats_global']\n",
    "\n",
    "for col in global_frame.columns[1:]:\n",
    "    global_label_mapping[col] = \"global_\" + col.lower()\n",
    "\n",
    "#print(global_label_mapping)\n",
    "\n",
    "global_frame.rename(global_label_mapping, axis=\"columns\", inplace=True)\n",
    "global_dict['aseg_asegstats_global'] = global_frame"
   ]
  },
  {
   "cell_type": "code",
   "execution_count": 7,
   "metadata": {},
   "outputs": [],
   "source": [
    "# Change column naming pattern for all aseg dataframes\n",
    "\n",
    "for frame in aseg_dict.values():\n",
    "    label_mapping = {}\n",
    "\n",
    "    for col in frame.columns[1:]:\n",
    "\n",
    "        label_mapping[col] = \"aseg_\" + col.lower() + \"_\" + frame.columns[0].split(\":\")[1]\n",
    "    \n",
    "    #print(label_mapping)\n",
    "    frame.rename(label_mapping, axis=\"columns\", inplace=True)"
   ]
  },
  {
   "cell_type": "code",
   "execution_count": 8,
   "metadata": {},
   "outputs": [],
   "source": [
    "# Change column naming pattern for all aparc dataframes\n",
    "\n",
    "for frame in aparc_dict.values():\n",
    "    label_mapping = {}\n",
    "\n",
    "    for col in frame.columns[1:]:\n",
    "        label_mapping[col] = \"aparc_\" + col\n",
    "    \n",
    "    #print(label_mapping)\n",
    "    frame.rename(label_mapping, axis=\"columns\", inplace=True)"
   ]
  },
  {
   "cell_type": "code",
   "execution_count": 9,
   "metadata": {},
   "outputs": [],
   "source": [
    "# Transform dictionaries into lists\n",
    "global_list = [global_dict['aseg_asegstats_global']]\n",
    "aseg_list = list(aseg_dict.values())\n",
    "aparc_list = list(aparc_dict.values())"
   ]
  },
  {
   "cell_type": "code",
   "execution_count": 10,
   "metadata": {},
   "outputs": [],
   "source": [
    "## Construct new dataframe with subject-ids only\n",
    "\n",
    "# Create new dataframe with id column\n",
    "df_base = pd.DataFrame()\n",
    "df_base[\"ID\"] = aseg_list[0].iloc[:,0]\n",
    "\n",
    "# Remove 'sub' substring from id string\n",
    "def remove_sub(identifier):\n",
    "    id = identifier.split('-')\n",
    "    return id[1].strip() \n",
    "\n",
    "df_base[\"ID\"] = df_base[\"ID\"].apply(remove_sub)\n",
    "#df_base"
   ]
  },
  {
   "cell_type": "code",
   "execution_count": 11,
   "metadata": {},
   "outputs": [],
   "source": [
    "# Delete first column (holding ids) in all dataframes from list\n",
    "\n",
    "df_list = global_list + aseg_list + aparc_list\n",
    "\n",
    "for frame in df_list:\n",
    "    frame.drop(columns=frame.columns[0], axis=1, inplace=True)"
   ]
  },
  {
   "cell_type": "code",
   "execution_count": 12,
   "metadata": {},
   "outputs": [],
   "source": [
    "# Aggregate frames to single dataframe\n",
    "\n",
    "joined_list = [df_base] + df_list\n",
    "df = pd.concat(joined_list, axis=1)"
   ]
  },
  {
   "cell_type": "code",
   "execution_count": 13,
   "metadata": {},
   "outputs": [],
   "source": [
    "#df"
   ]
  },
  {
   "cell_type": "code",
   "execution_count": 14,
   "metadata": {},
   "outputs": [],
   "source": [
    "os.chdir('../fs_features/')\n",
    "df.to_csv('fs_features_total.csv')"
   ]
  }
 ],
 "metadata": {
  "kernelspec": {
   "display_name": "neuro",
   "language": "python",
   "name": "python3"
  },
  "language_info": {
   "codemirror_mode": {
    "name": "ipython",
    "version": 3
   },
   "file_extension": ".py",
   "mimetype": "text/x-python",
   "name": "python",
   "nbconvert_exporter": "python",
   "pygments_lexer": "ipython3",
   "version": "3.11.3"
  }
 },
 "nbformat": 4,
 "nbformat_minor": 2
}
